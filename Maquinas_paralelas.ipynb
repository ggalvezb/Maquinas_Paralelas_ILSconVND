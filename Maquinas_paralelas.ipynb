{
 "cells": [
  {
   "cell_type": "markdown",
   "metadata": {},
   "source": [
    "# Librerias"
   ]
  },
  {
   "cell_type": "code",
   "execution_count": 15,
   "metadata": {},
   "outputs": [],
   "source": [
    "import pandas as pd\n",
    "import numpy as np\n",
    "import time\n",
    "import sys\n",
    "import random"
   ]
  },
  {
   "cell_type": "markdown",
   "metadata": {},
   "source": [
    "# Lectura de Datos"
   ]
  },
  {
   "cell_type": "code",
   "execution_count": 16,
   "metadata": {},
   "outputs": [],
   "source": [
    "archivo=pd.read_csv('Parallel_Machine_instances/Instance 3.txt', header=None, delim_whitespace=True)\n",
    "tamaño_archivo=len(archivo)\n",
    "numero_columnas=len(archivo.columns)"
   ]
  },
  {
   "cell_type": "code",
   "execution_count": 17,
   "metadata": {},
   "outputs": [],
   "source": [
    "numero_tareas=int(archivo.iloc[-2][0])\n",
    "numero_maquinas=int(archivo.iloc[-2][1])\n",
    "matriz_tiempos=[]\n",
    "for i in range(numero_tareas):\n",
    "    j=1\n",
    "    while j<(numero_columnas):\n",
    "        matriz_tiempos.append(archivo.iloc[i][j])\n",
    "        j+=2\n",
    "    \n",
    "matriz_tiempos = np.asarray(matriz_tiempos)\n",
    "matriz_tiempos= matriz_tiempos.astype(int)\n",
    "matriz_tiempos=matriz_tiempos.reshape(numero_tareas,numero_maquinas)\n"
   ]
  },
  {
   "cell_type": "markdown",
   "metadata": {},
   "source": [
    "# Solución inicial Greedy"
   ]
  },
  {
   "cell_type": "markdown",
   "metadata": {},
   "source": [
    "A cada tarea se asigna a la maquina con menor tiempo de ejecución"
   ]
  },
  {
   "cell_type": "code",
   "execution_count": 18,
   "metadata": {},
   "outputs": [
    {
     "name": "stdout",
     "output_type": "stream",
     "text": [
      "Tareas asignadas a maquinas=  {0: [16, 23, 51, 67, 68, 85], 1: [0, 6, 17, 20, 26, 28, 33, 46, 61, 64, 65, 73], 2: [10, 27, 29, 42, 59, 66, 72, 83, 86, 89, 94, 96], 3: [5, 8, 19, 49, 56, 75, 77, 98], 4: [1, 21, 22, 32, 37, 52, 54, 79, 93, 99], 5: [2, 15, 25, 38, 48, 58, 62, 92], 6: [18, 30, 31, 36, 57, 60, 63, 70, 71, 74, 78, 82], 7: [3, 13, 14, 24, 35, 43, 47, 55, 69, 76, 84, 88], 8: [7, 11, 39, 41, 44, 45, 53, 81, 87, 90, 91, 95, 97], 9: [4, 9, 12, 34, 40, 50, 80]}\n",
      "tiempo de uso cada maquina=  {0: [14, 7, 9, 11, 25, 17], 1: [10, 5, 25, 5, 7, 14, 13, 4, 21, 6, 9, 31], 2: [8, 5, 2, 12, 30, 7, 1, 3, 6, 5, 11, 7], 3: [8, 10, 37, 8, 11, 3, 1, 3], 4: [8, 19, 9, 14, 5, 11, 12, 8, 10, 9], 5: [7, 1, 2, 14, 14, 10, 30, 24], 6: [12, 16, 26, 4, 17, 9, 26, 8, 3, 18, 14, 9], 7: [7, 13, 2, 35, 2, 16, 2, 23, 8, 14, 3, 1], 8: [15, 10, 1, 5, 16, 3, 11, 10, 15, 6, 2, 11, 13], 9: [9, 6, 7, 11, 6, 13, 5]}\n"
     ]
    }
   ],
   "source": [
    "asignacion_maquinas={}\n",
    "tiempo_maquina={}\n",
    "for i in range(numero_maquinas):\n",
    "    asignacion_maquinas[i]=[]\n",
    "\n",
    "for i in range(numero_maquinas):\n",
    "    tiempo_maquina[i]=[]\n",
    " \n",
    "for i in range(numero_tareas):\n",
    "    maquina_asignar=np.argmin(matriz_tiempos[i])\n",
    "    tiempo_maquina[maquina_asignar].append(np.min(matriz_tiempos[i]))\n",
    "    asignacion_maquinas[maquina_asignar].append(i)\n",
    "print(\"Tareas asignadas a maquinas= \",asignacion_maquinas)\n",
    "print(\"tiempo de uso cada maquina= \",tiempo_maquina)"
   ]
  },
  {
   "cell_type": "markdown",
   "metadata": {},
   "source": [
    "# Funcion Fitness"
   ]
  },
  {
   "cell_type": "code",
   "execution_count": 19,
   "metadata": {},
   "outputs": [],
   "source": [
    "def evaluacion(numero_maquinas,tiempo_maquina):\n",
    "    tiempos_final_maquina=[]\n",
    "    for i in range(numero_maquinas):\n",
    "        tiempos_final_maquina.append(int(sum(tiempo_maquina[i])))    \n",
    "    makespan=max(tiempos_final_maquina)\n",
    "    return(makespan,tiempos_final_maquina)\n"
   ]
  },
  {
   "cell_type": "code",
   "execution_count": 20,
   "metadata": {},
   "outputs": [
    {
     "name": "stdout",
     "output_type": "stream",
     "text": [
      "162\n",
      "[83, 150, 97, 81, 105, 102, 162, 126, 118, 57]\n"
     ]
    }
   ],
   "source": [
    "makespan,tiempos_final_maquina=evaluacion(numero_maquinas,tiempo_maquina)\n",
    "print(makespan)\n",
    "print(tiempos_final_maquina)"
   ]
  },
  {
   "cell_type": "markdown",
   "metadata": {},
   "source": [
    "# Funcion busca maquinas por tarea"
   ]
  },
  {
   "cell_type": "code",
   "execution_count": 21,
   "metadata": {},
   "outputs": [],
   "source": [
    "def maquina_por_tarea(tarea):\n",
    "    for i in range(numero_maquinas):\n",
    "        for j in asignacion_maquinas[i]:\n",
    "            if tarea==j:\n",
    "                return(i)"
   ]
  },
  {
   "cell_type": "markdown",
   "metadata": {},
   "source": [
    "# Funcion mejor cambio de maquina"
   ]
  },
  {
   "cell_type": "code",
   "execution_count": 22,
   "metadata": {},
   "outputs": [],
   "source": [
    "def mejor_cambio_maquina(tarea,tiempos_final_maquina):\n",
    "    tiempos=[]\n",
    "    for i in range(numero_maquinas):\n",
    "        tiempos.append(tiempos_final_maquina[i]+matriz_tiempos[tarea][i])\n",
    "    tiempos=np.asarray(tiempos)\n",
    "    tiempo=np.min(tiempos)\n",
    "    return(tiempo,np.argmin(tiempos))    "
   ]
  },
  {
   "cell_type": "markdown",
   "metadata": {},
   "source": [
    "# Funcion para actualizar solucion"
   ]
  },
  {
   "cell_type": "code",
   "execution_count": 23,
   "metadata": {},
   "outputs": [],
   "source": [
    "def actualizar_solucion(asignacion_maquinas,tiempo_maquina,tarea,maquina_vieja,maquina_nueva,matriz_tiempos):\n",
    "    asignacion_maquinas[maquina_vieja].remove(tarea)\n",
    "    asignacion_maquinas[maquina_nueva].append(tarea)\n",
    "    tiempo_maquina[maquina_vieja].remove(matriz_tiempos[tarea][maquina_vieja])\n",
    "    tiempo_maquina[maquina_nueva].append(matriz_tiempos[tarea][maquina_nueva])\n",
    "    return(asignacion_maquinas,tiempo_maquina)"
   ]
  },
  {
   "cell_type": "markdown",
   "metadata": {},
   "source": [
    "# Iterated Local Search"
   ]
  },
  {
   "cell_type": "markdown",
   "metadata": {},
   "source": [
    "## Insertion local search"
   ]
  },
  {
   "cell_type": "code",
   "execution_count": 24,
   "metadata": {},
   "outputs": [],
   "source": [
    "def insertion_local_search(pi,asignacion_maquinas,tiempos_final_maquina,tiempo_maquina):\n",
    "    improved=True\n",
    "    while improved:\n",
    "        improved=False\n",
    "        for j in range(numero_tareas):                \n",
    "            i=maquina_por_tarea(j)\n",
    "            l,maquina_nueva=mejor_cambio_maquina(j,tiempos_final_maquina)\n",
    "            if l<tiempos_final_maquina[i]:\n",
    "                improved=True\n",
    "                asignacion_maquinas,tiempo_maquina=actualizar_solucion(asignacion_maquinas,tiempo_maquina,j,i \\\n",
    "                                                                       ,maquina_nueva,matriz_tiempos)\n",
    "                pi,tiempos_final_maquina=evaluacion(numero_maquinas,tiempo_maquina)\n",
    "    return(pi,tiempos_final_maquina,asignacion_maquinas,tiempo_maquina)\n",
    "                "
   ]
  },
  {
   "cell_type": "markdown",
   "metadata": {},
   "source": [
    "## Interchange Local Search"
   ]
  },
  {
   "cell_type": "code",
   "execution_count": 25,
   "metadata": {},
   "outputs": [],
   "source": [
    "def interchange_local_search(pi_prima,tiempos_final_maquina,asignacion_maquinas,tiempo_maquina):\n",
    "    pi=pi_prima\n",
    "    improved=True\n",
    "    while improved:\n",
    "        improved=False\n",
    "        for j_1 in range(numero_tareas):\n",
    "            for j_2 in range(numero_tareas):\n",
    "                i_1=maquina_por_tarea(j_1)\n",
    "                i_2=maquina_por_tarea(j_2)\n",
    "                if j_1!=j_2 and i_1!=i_2 and matriz_tiempos[j_2][i_1]+matriz_tiempos[j_1][i_2]< \\\n",
    "                matriz_tiempos[j_1][i_1]+matriz_tiempos[j_2][i_2] and (tiempos_final_maquina[i_1]+matriz_tiempos[j_2][i_1] \\\n",
    "                - matriz_tiempos[j_1][i_1])<c_max and (tiempos_final_maquina[i_2]+matriz_tiempos[j_1][i_2] \\\n",
    "                - matriz_tiempos[j_2][i_2])<c_max:\n",
    "                    asignacion_maquinas,tiempo_maquina=actualizar_solucion(asignacion_maquinas,tiempo_maquina,j_1,i_1 \\\n",
    "                                                                           ,i_2,matriz_tiempos)\n",
    "                    asignacion_maquinas,tiempo_maquina=actualizar_solucion(asignacion_maquinas,tiempo_maquina,j_2,i_2 \\\n",
    "                                                                           ,i_1,matriz_tiempos) \n",
    "                    pi,tiempos_final_maquina=evaluacion(numero_maquinas,tiempo_maquina)\n",
    "                    improved=True\n",
    "    return(pi,tiempos_final_maquina,asignacion_maquinas,tiempo_maquina)               "
   ]
  },
  {
   "cell_type": "markdown",
   "metadata": {},
   "source": [
    "## Solution Modification"
   ]
  },
  {
   "cell_type": "code",
   "execution_count": null,
   "metadata": {},
   "outputs": [],
   "source": [
    "def solution_modification(pi,tiempos_final_maquina,asignacion_maquinas,tiempo_maquina,matriz_tiempos):\n",
    "    d=5\n",
    "    for i in range(d): \n",
    "        maquina_random=random.randint(0,9)\n",
    "        trabajo_random=random.choice(asignacion_maquinas[maquina_random])\n",
    "        l,maquina_nueva=mejor_cambio_maquina(trabajo_random,tiempos_final_maquina)\n",
    "        asignacion_maquinas,tiempo_maquina=actualizar_solucion(asignacion_maquinas,tiempo_maquina,trabajo_random,maquina_random,maquina_nueva,matriz_tiempos)   \n",
    "        pi,tiempos_final_maquina=evaluacion(numero_maquinas,tiempo_maquina)\n",
    "    return(pi,asignacion_maquinas,tiempo_maquina,tiempos_final_maquina)"
   ]
  },
  {
   "cell_type": "markdown",
   "metadata": {},
   "source": [
    "## Main"
   ]
  },
  {
   "cell_type": "code",
   "execution_count": null,
   "metadata": {},
   "outputs": [],
   "source": [
    "pi=makespan\n",
    "pi_best=pi\n",
    "c_max=pi\n",
    "tiempo_ejecucion=1800\n",
    "start=time.time()\n",
    "end=0\n",
    "fin=end-start\n",
    "while fin <= tiempo_ejecucion: \n",
    "    improved=True\n",
    "    while improved:\n",
    "        improved=False\n",
    "        pi_prima,tiempos_final_maquina,asignacion_maquinas,tiempo_maquina=insertion_local_search(pi,asignacion_maquinas,tiempos_final_maquina,tiempo_maquina)\n",
    "        c_max=pi_prima\n",
    "        pi_dosprima,tiempos_final_maquina,asignacion_maquinas,tiempo_maquina=interchange_local_search(pi_prima,tiempos_final_maquina,asignacion_maquinas,tiempo_maquina)\n",
    "        if pi_dosprima!=pi_prima:\n",
    "            improved=True\n",
    "            pi=pi_dosprima\n",
    "    if pi_dosprima<=pi_best:\n",
    "        pi_best=pi_dosprima\n",
    "        pi,asignacion_maquinas,tiempo_maquina,tiempos_final_maquina=solution_modification(pi_best,tiempos_final_maquina,asignacion_maquinas,tiempo_maquina,matriz_tiempos)\n",
    "    end=time.time()\n",
    "    fin=end-start\n",
    "print(\"makespan= \",pi)\n",
    "print(\"trabajos asignados= \",asignacion_maquinas)\n",
    "\n"
   ]
  },
  {
   "cell_type": "markdown",
   "metadata": {},
   "source": [
    "# Salida de datos"
   ]
  },
  {
   "cell_type": "code",
   "execution_count": null,
   "metadata": {},
   "outputs": [],
   "source": [
    "for i in range(numero_maquinas):\n",
    "    print(\"Maquina\"+str(i)+\"        \"+\"Trabajos Asignados=\",asignacion_maquinas.get(i))"
   ]
  },
  {
   "cell_type": "code",
   "execution_count": null,
   "metadata": {},
   "outputs": [],
   "source": [
    "print(pi)"
   ]
  }
 ],
 "metadata": {
  "kernelspec": {
   "display_name": "Python 3",
   "language": "python",
   "name": "python3"
  },
  "language_info": {
   "codemirror_mode": {
    "name": "ipython",
    "version": 3
   },
   "file_extension": ".py",
   "mimetype": "text/x-python",
   "name": "python",
   "nbconvert_exporter": "python",
   "pygments_lexer": "ipython3",
   "version": "3.6.4"
  }
 },
 "nbformat": 4,
 "nbformat_minor": 2
}
