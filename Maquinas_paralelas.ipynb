{
 "cells": [
  {
   "cell_type": "markdown",
   "metadata": {},
   "source": [
    "# Librerias"
   ]
  },
  {
   "cell_type": "code",
   "execution_count": 331,
   "metadata": {},
   "outputs": [],
   "source": [
    "import pandas as pd\n",
    "import numpy as np\n",
    "import time\n",
    "import sys"
   ]
  },
  {
   "cell_type": "markdown",
   "metadata": {},
   "source": [
    "# Lectura de Datos"
   ]
  },
  {
   "cell_type": "code",
   "execution_count": 332,
   "metadata": {},
   "outputs": [],
   "source": [
    "archivo=pd.read_csv('Parallel_Machine_instances/Instance 1.txt', header=None, delim_whitespace=True)\n",
    "tamaño_archivo=len(archivo)\n",
    "numero_columnas=len(archivo.columns)"
   ]
  },
  {
   "cell_type": "code",
   "execution_count": 333,
   "metadata": {},
   "outputs": [],
   "source": [
    "numero_tareas=int(archivo.iloc[-2][0])\n",
    "numero_maquinas=int(archivo.iloc[-2][1])\n",
    "matriz_tiempos=[]\n",
    "for i in range(numero_tareas):\n",
    "    j=1\n",
    "    while j<(numero_columnas):\n",
    "        matriz_tiempos.append(archivo.iloc[i][j])\n",
    "        j+=2\n",
    "    \n",
    "matriz_tiempos = np.asarray(matriz_tiempos)\n",
    "matriz_tiempos= matriz_tiempos.astype(int)\n",
    "matriz_tiempos=matriz_tiempos.reshape(numero_tareas,numero_maquinas)\n"
   ]
  },
  {
   "cell_type": "markdown",
   "metadata": {},
   "source": [
    "# Solución inicial Greedy"
   ]
  },
  {
   "cell_type": "markdown",
   "metadata": {},
   "source": [
    "A cada tarea se asigna a la maquina con menor tiempo de ejecución"
   ]
  },
  {
   "cell_type": "code",
   "execution_count": 334,
   "metadata": {},
   "outputs": [
    {
     "name": "stdout",
     "output_type": "stream",
     "text": [
      "Tareas asignadas a maquinas=  {0: [12, 56, 60, 69, 77, 89, 99], 1: [5, 6, 11, 13, 24, 26, 42, 68, 83, 87], 2: [4, 7, 16, 35, 53, 63, 65, 66, 78, 80], 3: [2, 18, 20, 25, 34, 36, 41, 46, 51, 59, 75, 81, 84], 4: [3, 19, 27, 28, 33, 37, 40, 45, 61, 71, 76, 90, 93, 96], 5: [49, 52, 54, 58, 67, 82, 85, 94], 6: [0, 29, 48, 55, 57, 70, 72, 79, 91], 7: [31, 32, 43, 50, 74, 86, 98], 8: [1, 9, 10, 15, 21, 30, 38, 39, 44, 47, 62, 92, 95], 9: [8, 14, 17, 22, 23, 64, 73, 88, 97]}\n",
      "tiempo de uso cada maquina=  {0: [1, 17, 13, 7, 4, 12, 3], 1: [21, 16, 5, 4, 4, 13, 8, 10, 17, 1], 2: [12, 33, 2, 7, 23, 13, 10, 4, 2, 30], 3: [14, 24, 20, 3, 13, 16, 30, 6, 18, 21, 14, 6, 29], 4: [33, 1, 7, 8, 12, 6, 11, 14, 10, 8, 5, 25, 2, 4], 5: [10, 2, 3, 4, 1, 37, 9, 10], 6: [4, 5, 16, 1, 9, 1, 11, 15, 20], 7: [2, 12, 2, 5, 4, 4, 9], 8: [7, 5, 5, 15, 6, 30, 2, 2, 8, 5, 26, 1, 51], 9: [1, 9, 9, 13, 14, 21, 8, 16, 5]}\n"
     ]
    }
   ],
   "source": [
    "asignacion_maquinas={}\n",
    "tiempo_maquina={}\n",
    "for i in range(numero_maquinas):\n",
    "    asignacion_maquinas[i]=[]\n",
    "\n",
    "for i in range(numero_maquinas):\n",
    "    tiempo_maquina[i]=[]\n",
    " \n",
    "for i in range(numero_tareas):\n",
    "    maquina_asignar=np.argmin(matriz_tiempos[i])\n",
    "    tiempo_maquina[maquina_asignar].append(np.min(matriz_tiempos[i]))\n",
    "    asignacion_maquinas[maquina_asignar].append(i)\n",
    "print(\"Tareas asignadas a maquinas= \",asignacion_maquinas)\n",
    "print(\"tiempo de uso cada maquina= \",tiempo_maquina)"
   ]
  },
  {
   "cell_type": "markdown",
   "metadata": {},
   "source": [
    "# Funcion Fitness"
   ]
  },
  {
   "cell_type": "code",
   "execution_count": 335,
   "metadata": {},
   "outputs": [],
   "source": [
    "def evaluacion(numero_maquinas,tiempo_maquina):\n",
    "    tiempos_final_maquina=[]\n",
    "    for i in range(numero_maquinas):\n",
    "        tiempos_final_maquina.append(int(sum(tiempo_maquina[i])))    \n",
    "    makespan=max(tiempos_final_maquina)\n",
    "    return(makespan,tiempos_final_maquina)\n"
   ]
  },
  {
   "cell_type": "code",
   "execution_count": 336,
   "metadata": {},
   "outputs": [
    {
     "name": "stdout",
     "output_type": "stream",
     "text": [
      "214\n",
      "[57, 99, 136, 214, 146, 76, 82, 38, 163, 96]\n"
     ]
    }
   ],
   "source": [
    "makespan,tiempos_final_maquina=evaluacion(numero_maquinas,tiempo_maquina)\n",
    "print(makespan)\n",
    "print(tiempos_final_maquina)"
   ]
  },
  {
   "cell_type": "markdown",
   "metadata": {},
   "source": [
    "# Funcion busca maquinas por tarea"
   ]
  },
  {
   "cell_type": "code",
   "execution_count": 337,
   "metadata": {},
   "outputs": [],
   "source": [
    "def maquina_por_tarea(tarea):\n",
    "    for i in range(numero_maquinas):\n",
    "        for j in asignacion_maquinas[i]:\n",
    "            if tarea==j:\n",
    "                return(i)"
   ]
  },
  {
   "cell_type": "markdown",
   "metadata": {},
   "source": [
    "# Funcion mejor cambio de maquina"
   ]
  },
  {
   "cell_type": "code",
   "execution_count": 338,
   "metadata": {},
   "outputs": [],
   "source": [
    "def mejor_cambio_maquina(tarea,tiempos_final_maquina):\n",
    "    tiempos=[]\n",
    "    for i in range(numero_maquinas):\n",
    "        tiempos.append(tiempos_final_maquina[i]+matriz_tiempos[tarea][i])\n",
    "    tiempos=np.asarray(tiempos)\n",
    "    tiempo=np.min(tiempos)\n",
    "    return(tiempo,np.argmin(tiempos))    "
   ]
  },
  {
   "cell_type": "markdown",
   "metadata": {},
   "source": [
    "# Funcion para actualizar solucion"
   ]
  },
  {
   "cell_type": "code",
   "execution_count": 339,
   "metadata": {},
   "outputs": [],
   "source": [
    "def actualizar_solucion(asignacion_maquinas,tiempo_maquina,tarea,maquina_vieja,maquina_nueva,matriz_tiempos):\n",
    "    asignacion_maquinas[maquina_vieja].remove(tarea)\n",
    "    asignacion_maquinas[maquina_nueva].append(tarea)\n",
    "    tiempo_maquina[maquina_vieja].remove(matriz_tiempos[tarea][maquina_vieja])\n",
    "    tiempo_maquina[maquina_nueva].append(matriz_tiempos[tarea][maquina_nueva])\n",
    "    return(asignacion_maquinas,tiempo_maquina)"
   ]
  },
  {
   "cell_type": "markdown",
   "metadata": {},
   "source": [
    "# Iterated Local Search"
   ]
  },
  {
   "cell_type": "markdown",
   "metadata": {},
   "source": [
    "## Insertion local search"
   ]
  },
  {
   "cell_type": "code",
   "execution_count": 340,
   "metadata": {},
   "outputs": [],
   "source": [
    "def insertion_local_search(pi,asignacion_maquinas,tiempos_final_maquina,tiempo_maquina):\n",
    "    improved=True\n",
    "    while improved:\n",
    "        improved=False\n",
    "        for j in range(numero_tareas):                \n",
    "            i=maquina_por_tarea(j)\n",
    "            l,maquina_nueva=mejor_cambio_maquina(j,tiempos_final_maquina)\n",
    "            if l<tiempos_final_maquina[i]:\n",
    "                improved=True\n",
    "                asignacion_maquinas,tiempo_maquina=actualizar_solucion(asignacion_maquinas,tiempo_maquina,j,i \\\n",
    "                                                                       ,maquina_nueva,matriz_tiempos)\n",
    "                pi,tiempos_final_maquina=evaluacion(numero_maquinas,tiempo_maquina)\n",
    "    return(pi,tiempos_final_maquina,asignacion_maquinas,tiempo_maquina)\n",
    "                "
   ]
  },
  {
   "cell_type": "markdown",
   "metadata": {},
   "source": [
    "## Interchange Local Search"
   ]
  },
  {
   "cell_type": "code",
   "execution_count": 341,
   "metadata": {},
   "outputs": [],
   "source": [
    "def interchange_local_search(pi_prima,tiempos_final_maquina,asignacion_maquinas,tiempo_maquina):\n",
    "    pi=pi_prima\n",
    "    improved=True\n",
    "    while improved:\n",
    "        improved=False\n",
    "        for j_1 in range(numero_tareas):\n",
    "            for j_2 in range(numero_tareas):\n",
    "                i_1=maquina_por_tarea(j_1)\n",
    "                i_2=maquina_por_tarea(j_2)\n",
    "                if j_1!=j_2 and i_1!=i_2 and matriz_tiempos[j_2][i_1]+matriz_tiempos[j_1][i_2]< \\\n",
    "                matriz_tiempos[j_1][i_1]+matriz_tiempos[j_2][i_2] and (tiempos_final_maquina[i_1]+matriz_tiempos[j_2][i_1] \\\n",
    "                - matriz_tiempos[j_1][i_1])<c_max and (tiempos_final_maquina[i_2]+matriz_tiempos[j_1][i_2] \\\n",
    "                - matriz_tiempos[j_2][i_2])<c_max:\n",
    "                    asignacion_maquinas,tiempo_maquina=actualizar_solucion(asignacion_maquinas,tiempo_maquina,j_1,i_1 \\\n",
    "                                                                           ,i_2,matriz_tiempos)\n",
    "                    asignacion_maquinas,tiempo_maquina=actualizar_solucion(asignacion_maquinas,tiempo_maquina,j_2,i_2 \\\n",
    "                                                                           ,i_1,matriz_tiempos) \n",
    "                    pi,tiempos_final_maquina=evaluacion(numero_maquinas,tiempo_maquina)\n",
    "                    improved=True\n",
    "    return(pi,tiempos_final_maquina,asignacion_maquinas,tiempo_maquina)               "
   ]
  },
  {
   "cell_type": "markdown",
   "metadata": {},
   "source": [
    "## Solution Modification"
   ]
  },
  {
   "cell_type": "code",
   "execution_count": null,
   "metadata": {},
   "outputs": [],
   "source": [
    "def solution_modification():\n",
    "    "
   ]
  },
  {
   "cell_type": "markdown",
   "metadata": {},
   "source": [
    "## Main"
   ]
  },
  {
   "cell_type": "code",
   "execution_count": 342,
   "metadata": {},
   "outputs": [
    {
     "name": "stdout",
     "output_type": "stream",
     "text": [
      "140\n",
      "135\n"
     ]
    },
    {
     "ename": "SystemExit",
     "evalue": "",
     "output_type": "error",
     "traceback": [
      "An exception has occurred, use %tb to see the full traceback.\n",
      "\u001b[1;31mSystemExit\u001b[0m\n"
     ]
    },
    {
     "name": "stderr",
     "output_type": "stream",
     "text": [
      "C:\\Users\\ggalv\\Anaconda2\\envs\\py35\\lib\\site-packages\\IPython\\core\\interactiveshell.py:2971: UserWarning: To exit: use 'exit', 'quit', or Ctrl-D.\n",
      "  warn(\"To exit: use 'exit', 'quit', or Ctrl-D.\", stacklevel=1)\n"
     ]
    }
   ],
   "source": [
    "pi=makespan\n",
    "pi_best=pi\n",
    "c_max=pi\n",
    "tiempo_ejecucion=3\n",
    "start=time.time()\n",
    "end=0\n",
    "fin=end-start\n",
    "while fin <= tiempo_ejecucion: \n",
    "    improved=True\n",
    "    while improved:\n",
    "        improved=False\n",
    "        pi_prima,tiempos_final_maquina,asignacion_maquinas,tiempo_maquina=insertion_local_search(pi,asignacion_maquinas,tiempos_final_maquina,tiempo_maquina)\n",
    "        c_max=pi_prima\n",
    "        print(pi_prima)\n",
    "        pi_dosprima,tiempos_final_maquina,asignacion_maquinas,tiempo_maquina=interchange_local_search(pi_prima,tiempos_final_maquina,asignacion_maquinas,tiempo_maquina)\n",
    "        print(pi_dosprima)\n",
    "        if pi_dosprima!=pi_prima:\n",
    "            improved=True\n",
    "            pi=pi_dosprima\n",
    "    if pi_dosprima<=pi_best:\n",
    "        pi_best=pi_dosprima\n",
    "        pi=solution_modification(pi_best)\n",
    "    end=time.time()\n",
    "    fin=end-start\n"
   ]
  },
  {
   "cell_type": "code",
   "execution_count": null,
   "metadata": {},
   "outputs": [],
   "source": []
  }
 ],
 "metadata": {
  "kernelspec": {
   "display_name": "Python 3",
   "language": "python",
   "name": "python3"
  },
  "language_info": {
   "codemirror_mode": {
    "name": "ipython",
    "version": 3
   },
   "file_extension": ".py",
   "mimetype": "text/x-python",
   "name": "python",
   "nbconvert_exporter": "python",
   "pygments_lexer": "ipython3",
   "version": "3.5.5"
  }
 },
 "nbformat": 4,
 "nbformat_minor": 2
}
